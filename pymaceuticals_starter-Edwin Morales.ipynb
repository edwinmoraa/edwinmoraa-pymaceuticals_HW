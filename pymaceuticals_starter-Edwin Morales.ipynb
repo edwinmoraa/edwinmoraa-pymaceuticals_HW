{
 "cells": [
  {
   "cell_type": "markdown",
   "metadata": {},
   "source": [
    "## Observations and Insights "
   ]
  },
  {
   "cell_type": "markdown",
   "metadata": {},
   "source": []
  },
  {
   "cell_type": "code",
   "execution_count": 93,
   "metadata": {},
   "outputs": [
    {
     "data": {
      "text/html": [
       "<div>\n",
       "<style scoped>\n",
       "    .dataframe tbody tr th:only-of-type {\n",
       "        vertical-align: middle;\n",
       "    }\n",
       "\n",
       "    .dataframe tbody tr th {\n",
       "        vertical-align: top;\n",
       "    }\n",
       "\n",
       "    .dataframe thead th {\n",
       "        text-align: right;\n",
       "    }\n",
       "</style>\n",
       "<table border=\"1\" class=\"dataframe\">\n",
       "  <thead>\n",
       "    <tr style=\"text-align: right;\">\n",
       "      <th></th>\n",
       "      <th>Mouse ID</th>\n",
       "      <th>Drug Regimen</th>\n",
       "      <th>Sex</th>\n",
       "      <th>Age_months</th>\n",
       "      <th>Weight (g)</th>\n",
       "      <th>Timepoint</th>\n",
       "      <th>Tumor Volume (mm3)</th>\n",
       "      <th>Metastatic Sites</th>\n",
       "    </tr>\n",
       "  </thead>\n",
       "  <tbody>\n",
       "    <tr>\n",
       "      <th>0</th>\n",
       "      <td>k403</td>\n",
       "      <td>Ramicane</td>\n",
       "      <td>Male</td>\n",
       "      <td>21</td>\n",
       "      <td>16</td>\n",
       "      <td>0</td>\n",
       "      <td>45.000000</td>\n",
       "      <td>0</td>\n",
       "    </tr>\n",
       "    <tr>\n",
       "      <th>1</th>\n",
       "      <td>k403</td>\n",
       "      <td>Ramicane</td>\n",
       "      <td>Male</td>\n",
       "      <td>21</td>\n",
       "      <td>16</td>\n",
       "      <td>5</td>\n",
       "      <td>38.825898</td>\n",
       "      <td>0</td>\n",
       "    </tr>\n",
       "    <tr>\n",
       "      <th>2</th>\n",
       "      <td>k403</td>\n",
       "      <td>Ramicane</td>\n",
       "      <td>Male</td>\n",
       "      <td>21</td>\n",
       "      <td>16</td>\n",
       "      <td>10</td>\n",
       "      <td>35.014271</td>\n",
       "      <td>1</td>\n",
       "    </tr>\n",
       "    <tr>\n",
       "      <th>3</th>\n",
       "      <td>k403</td>\n",
       "      <td>Ramicane</td>\n",
       "      <td>Male</td>\n",
       "      <td>21</td>\n",
       "      <td>16</td>\n",
       "      <td>15</td>\n",
       "      <td>34.223992</td>\n",
       "      <td>1</td>\n",
       "    </tr>\n",
       "    <tr>\n",
       "      <th>4</th>\n",
       "      <td>k403</td>\n",
       "      <td>Ramicane</td>\n",
       "      <td>Male</td>\n",
       "      <td>21</td>\n",
       "      <td>16</td>\n",
       "      <td>20</td>\n",
       "      <td>32.997729</td>\n",
       "      <td>1</td>\n",
       "    </tr>\n",
       "  </tbody>\n",
       "</table>\n",
       "</div>"
      ],
      "text/plain": [
       "  Mouse ID Drug Regimen   Sex  Age_months  Weight (g)  Timepoint  \\\n",
       "0     k403     Ramicane  Male          21          16          0   \n",
       "1     k403     Ramicane  Male          21          16          5   \n",
       "2     k403     Ramicane  Male          21          16         10   \n",
       "3     k403     Ramicane  Male          21          16         15   \n",
       "4     k403     Ramicane  Male          21          16         20   \n",
       "\n",
       "   Tumor Volume (mm3)  Metastatic Sites  \n",
       "0           45.000000                 0  \n",
       "1           38.825898                 0  \n",
       "2           35.014271                 1  \n",
       "3           34.223992                 1  \n",
       "4           32.997729                 1  "
      ]
     },
     "execution_count": 93,
     "metadata": {},
     "output_type": "execute_result"
    }
   ],
   "source": [
    "# Dependencies and Setup\n",
    "import matplotlib.pyplot as plt\n",
    "import pandas as pd\n",
    "import scipy.stats as st\n",
    "import scipy.stats as sts\n",
    "import numpy as np\n",
    "from scipy.stats import linregress\n",
    "\n",
    "# Study data files\n",
    "mouse_metadata_path = \"data/Mouse_metadata.csv\"\n",
    "study_results_path = \"data/Study_results.csv\"\n",
    "\n",
    "# Read the mouse data and the study results\n",
    "mouse_metadata = pd.read_csv(mouse_metadata_path)\n",
    "study_results = pd.read_csv(study_results_path)\n",
    "\n",
    "# Combine the data into a single dataset\n",
    "merge_data = pd.merge(mouse_metadata, study_results, on='Mouse ID', how='left')\n",
    "merge_data.head()"
   ]
  },
  {
   "cell_type": "code",
   "execution_count": 2,
   "metadata": {},
   "outputs": [
    {
     "data": {
      "text/plain": [
       "g989    13\n",
       "a963    10\n",
       "r554    10\n",
       "a444    10\n",
       "s185    10\n",
       "Name: Mouse ID, dtype: int64"
      ]
     },
     "execution_count": 2,
     "metadata": {},
     "output_type": "execute_result"
    }
   ],
   "source": [
    "# Checking the number of mice in the DataFrame.\n",
    "merge_data['Mouse ID'].value_counts().head()"
   ]
  },
  {
   "cell_type": "code",
   "execution_count": 3,
   "metadata": {},
   "outputs": [
    {
     "ename": "NameError",
     "evalue": "name 'study_results_single' is not defined",
     "output_type": "error",
     "traceback": [
      "\u001b[0;31m---------------------------------------------------------------------------\u001b[0m",
      "\u001b[0;31mNameError\u001b[0m                                 Traceback (most recent call last)",
      "\u001b[0;32m<ipython-input-3-62851e1f0adf>\u001b[0m in \u001b[0;36m<module>\u001b[0;34m\u001b[0m\n\u001b[1;32m      1\u001b[0m \u001b[0;31m# Getting the duplicate mice by ID number that shows up for Mouse ID and Timepoint.\u001b[0m\u001b[0;34m\u001b[0m\u001b[0;34m\u001b[0m\u001b[0;34m\u001b[0m\u001b[0m\n\u001b[0;32m----> 2\u001b[0;31m \u001b[0mstudy_results_mice\u001b[0m \u001b[0;34m=\u001b[0m \u001b[0mstudy_results_single\u001b[0m\u001b[0;34m.\u001b[0m\u001b[0mset_index\u001b[0m\u001b[0;34m[\u001b[0m\u001b[0;34m'Mouse ID'\u001b[0m\u001b[0;34m]\u001b[0m\u001b[0;34m[\u001b[0m\u001b[0;34m'Timepoint'\u001b[0m\u001b[0;34m]\u001b[0m\u001b[0;34m\u001b[0m\u001b[0;34m\u001b[0m\u001b[0m\n\u001b[0m\u001b[1;32m      3\u001b[0m \u001b[0mmouse\u001b[0m \u001b[0;34m=\u001b[0m \u001b[0mstudy_results_mice\u001b[0m\u001b[0;34m.\u001b[0m\u001b[0mloc\u001b[0m\u001b[0;34m[\u001b[0m\u001b[0;34m'g989'\u001b[0m\u001b[0;34m,\u001b[0m\u001b[0;34m:\u001b[0m\u001b[0;34m]\u001b[0m\u001b[0;34m\u001b[0m\u001b[0;34m\u001b[0m\u001b[0m\n\u001b[1;32m      4\u001b[0m \u001b[0mmouse\u001b[0m\u001b[0;34m.\u001b[0m\u001b[0mhead\u001b[0m\u001b[0;34m(\u001b[0m\u001b[0;34m)\u001b[0m\u001b[0;34m\u001b[0m\u001b[0;34m\u001b[0m\u001b[0m\n",
      "\u001b[0;31mNameError\u001b[0m: name 'study_results_single' is not defined"
     ]
    }
   ],
   "source": [
    "# Getting the duplicate mice by ID number that shows up for Mouse ID and Timepoint. \n",
    "study_results_mice = study_results_single.set_index['Mouse ID']['Timepoint']\n",
    "mouse = study_results_mice.loc['g989',:]\n",
    "mouse.head()"
   ]
  },
  {
   "cell_type": "code",
   "execution_count": null,
   "metadata": {},
   "outputs": [],
   "source": [
    "# Optional: Get all the data for the duplicate mouse ID. \n"
   ]
  },
  {
   "cell_type": "code",
   "execution_count": null,
   "metadata": {},
   "outputs": [],
   "source": [
    "# Create a clean DataFrame by dropping the duplicate mouse by its ID.\n"
   ]
  },
  {
   "cell_type": "code",
   "execution_count": null,
   "metadata": {},
   "outputs": [],
   "source": [
    "# Checking the number of mice in the clean DataFrame.\n"
   ]
  },
  {
   "cell_type": "markdown",
   "metadata": {},
   "source": []
  },
  {
   "cell_type": "markdown",
   "metadata": {},
   "source": [
    "## Summary Statistics"
   ]
  },
  {
   "cell_type": "code",
   "execution_count": 4,
   "metadata": {},
   "outputs": [
    {
     "data": {
      "text/html": [
       "<div>\n",
       "<style scoped>\n",
       "    .dataframe tbody tr th:only-of-type {\n",
       "        vertical-align: middle;\n",
       "    }\n",
       "\n",
       "    .dataframe tbody tr th {\n",
       "        vertical-align: top;\n",
       "    }\n",
       "\n",
       "    .dataframe thead th {\n",
       "        text-align: right;\n",
       "    }\n",
       "</style>\n",
       "<table border=\"1\" class=\"dataframe\">\n",
       "  <thead>\n",
       "    <tr style=\"text-align: right;\">\n",
       "      <th></th>\n",
       "      <th>Mean</th>\n",
       "      <th>Median</th>\n",
       "      <th>Variance</th>\n",
       "      <th>Standard Deviation</th>\n",
       "      <th>SEM</th>\n",
       "    </tr>\n",
       "    <tr>\n",
       "      <th>Drug Regimen</th>\n",
       "      <th></th>\n",
       "      <th></th>\n",
       "      <th></th>\n",
       "      <th></th>\n",
       "      <th></th>\n",
       "    </tr>\n",
       "  </thead>\n",
       "  <tbody>\n",
       "    <tr>\n",
       "      <th>Capomulin</th>\n",
       "      <td>40.675741</td>\n",
       "      <td>41.557809</td>\n",
       "      <td>24.947764</td>\n",
       "      <td>4.994774</td>\n",
       "      <td>0.329346</td>\n",
       "    </tr>\n",
       "    <tr>\n",
       "      <th>Ceftamin</th>\n",
       "      <td>52.591172</td>\n",
       "      <td>51.776157</td>\n",
       "      <td>39.290177</td>\n",
       "      <td>6.268188</td>\n",
       "      <td>0.469821</td>\n",
       "    </tr>\n",
       "    <tr>\n",
       "      <th>Infubinol</th>\n",
       "      <td>52.884795</td>\n",
       "      <td>51.820584</td>\n",
       "      <td>43.128684</td>\n",
       "      <td>6.567243</td>\n",
       "      <td>0.492236</td>\n",
       "    </tr>\n",
       "    <tr>\n",
       "      <th>Ketapril</th>\n",
       "      <td>55.235638</td>\n",
       "      <td>53.698743</td>\n",
       "      <td>68.553577</td>\n",
       "      <td>8.279709</td>\n",
       "      <td>0.603860</td>\n",
       "    </tr>\n",
       "    <tr>\n",
       "      <th>Naftisol</th>\n",
       "      <td>54.331565</td>\n",
       "      <td>52.509285</td>\n",
       "      <td>66.173479</td>\n",
       "      <td>8.134708</td>\n",
       "      <td>0.596466</td>\n",
       "    </tr>\n",
       "    <tr>\n",
       "      <th>Placebo</th>\n",
       "      <td>54.033581</td>\n",
       "      <td>52.288934</td>\n",
       "      <td>61.168083</td>\n",
       "      <td>7.821003</td>\n",
       "      <td>0.581331</td>\n",
       "    </tr>\n",
       "    <tr>\n",
       "      <th>Propriva</th>\n",
       "      <td>52.322552</td>\n",
       "      <td>50.854632</td>\n",
       "      <td>42.351070</td>\n",
       "      <td>6.507770</td>\n",
       "      <td>0.512884</td>\n",
       "    </tr>\n",
       "    <tr>\n",
       "      <th>Ramicane</th>\n",
       "      <td>40.216745</td>\n",
       "      <td>40.673236</td>\n",
       "      <td>23.486704</td>\n",
       "      <td>4.846308</td>\n",
       "      <td>0.320955</td>\n",
       "    </tr>\n",
       "    <tr>\n",
       "      <th>Stelasyn</th>\n",
       "      <td>54.233149</td>\n",
       "      <td>52.431737</td>\n",
       "      <td>59.450562</td>\n",
       "      <td>7.710419</td>\n",
       "      <td>0.573111</td>\n",
       "    </tr>\n",
       "    <tr>\n",
       "      <th>Zoniferol</th>\n",
       "      <td>53.236507</td>\n",
       "      <td>51.818479</td>\n",
       "      <td>48.533355</td>\n",
       "      <td>6.966589</td>\n",
       "      <td>0.516398</td>\n",
       "    </tr>\n",
       "  </tbody>\n",
       "</table>\n",
       "</div>"
      ],
      "text/plain": [
       "                   Mean     Median   Variance  Standard Deviation       SEM\n",
       "Drug Regimen                                                               \n",
       "Capomulin     40.675741  41.557809  24.947764            4.994774  0.329346\n",
       "Ceftamin      52.591172  51.776157  39.290177            6.268188  0.469821\n",
       "Infubinol     52.884795  51.820584  43.128684            6.567243  0.492236\n",
       "Ketapril      55.235638  53.698743  68.553577            8.279709  0.603860\n",
       "Naftisol      54.331565  52.509285  66.173479            8.134708  0.596466\n",
       "Placebo       54.033581  52.288934  61.168083            7.821003  0.581331\n",
       "Propriva      52.322552  50.854632  42.351070            6.507770  0.512884\n",
       "Ramicane      40.216745  40.673236  23.486704            4.846308  0.320955\n",
       "Stelasyn      54.233149  52.431737  59.450562            7.710419  0.573111\n",
       "Zoniferol     53.236507  51.818479  48.533355            6.966589  0.516398"
      ]
     },
     "execution_count": 4,
     "metadata": {},
     "output_type": "execute_result"
    }
   ],
   "source": [
    "# Generate a summary statistics table of mean, median, variance, standard deviation, and SEM of the tumor volume for each regimen\n",
    "mean = merge_data.groupby('Drug Regimen')[\"Tumor Volume (mm3)\"].mean()\n",
    "median = merge_data.groupby(\"Drug Regimen\")[\"Tumor Volume (mm3)\"].median()\n",
    "variance = merge_data.groupby(\"Drug Regimen\")[\"Tumor Volume (mm3)\"].var()\n",
    "stdv = merge_data.groupby(\"Drug Regimen\")[\"Tumor Volume (mm3)\"].std()\n",
    "sem = merge_data.groupby(\"Drug Regimen\")[\"Tumor Volume (mm3)\"].sem()\n",
    "summary_df = pd.DataFrame({\"Mean\": mean,\n",
    "                           \"Median\": median,\n",
    "                           \"Variance\": variance,\n",
    "                           \"Standard Deviation\": stdv,\n",
    "                           \"SEM\": sem})\n",
    "summary_df\n",
    "\n",
    "\n",
    "\n",
    "# This method is the most straighforward, creating multiple series and putting them all together at the end."
   ]
  },
  {
   "cell_type": "code",
   "execution_count": null,
   "metadata": {
    "scrolled": true
   },
   "outputs": [],
   "source": [
    "# Generate a summary statistics table of mean, median, variance, standard deviation, and SEM of the tumor volume for each regimen"
   ]
  },
  {
   "cell_type": "markdown",
   "metadata": {},
   "source": [
    "## Bar Plots"
   ]
  },
  {
   "cell_type": "code",
   "execution_count": 5,
   "metadata": {},
   "outputs": [],
   "source": [
    "# Generate a bar plot showing the number of mice per time point for each treatment throughout the course of the study using pandas.\n",
    "bar_df = pd.DataFrame(merge_data.groupby(['Drug Regimen']).count()).reset_index()\n",
    "\n",
    "regimen_data = bar_df[[\"Drug Regimen\", \"Mouse ID\"]]\n",
    "regimen_data = regimen_data.rename(columns={'Mouse ID': \"Count\"})\n",
    "\n",
    "regimen_data = regimen_data.set_index(\"Drug Regimen\")\n",
    "\n",
    "\n",
    "\n"
   ]
  },
  {
   "cell_type": "code",
   "execution_count": 6,
   "metadata": {},
   "outputs": [
    {
     "data": {
      "image/png": "[encoded data removed]",
      "text/plain": [
       "<Figure size 1008x216 with 1 Axes>"
      ]
     },
     "metadata": {
      "needs_background": "light"
     },
     "output_type": "display_data"
    },
    {
     "data": {
      "text/plain": [
       "<Figure size 432x288 with 0 Axes>"
      ]
     },
     "metadata": {},
     "output_type": "display_data"
    }
   ],
   "source": [
    "# Generate a bar plot showing the number of mice per time point for each treatment throughout the course of the study using pyplot.\n",
    "regimen_data.plot(kind='bar', figsize=(14,3))\n",
    "\n",
    "plt.title(\"Count per Drug Regimen\")\n",
    "\n",
    "\n",
    "plt.show()\n",
    "plt.tight_layout()\n",
    "\n",
    "\n",
    "\n",
    "\n"
   ]
  },
  {
   "cell_type": "markdown",
   "metadata": {},
   "source": [
    "## Pie Plots"
   ]
  },
  {
   "cell_type": "code",
   "execution_count": 9,
   "metadata": {},
   "outputs": [
    {
     "data": {
      "text/html": [
       "<div>\n",
       "<style scoped>\n",
       "    .dataframe tbody tr th:only-of-type {\n",
       "        vertical-align: middle;\n",
       "    }\n",
       "\n",
       "    .dataframe tbody tr th {\n",
       "        vertical-align: top;\n",
       "    }\n",
       "\n",
       "    .dataframe thead th {\n",
       "        text-align: right;\n",
       "    }\n",
       "</style>\n",
       "<table border=\"1\" class=\"dataframe\">\n",
       "  <thead>\n",
       "    <tr style=\"text-align: right;\">\n",
       "      <th></th>\n",
       "      <th>Sex</th>\n",
       "      <th>Mouse ID</th>\n",
       "      <th>Drug Regimen</th>\n",
       "      <th>Age_months</th>\n",
       "      <th>Weight (g)</th>\n",
       "      <th>Timepoint</th>\n",
       "      <th>Tumor Volume (mm3)</th>\n",
       "      <th>Metastatic Sites</th>\n",
       "    </tr>\n",
       "  </thead>\n",
       "  <tbody>\n",
       "    <tr>\n",
       "      <th>0</th>\n",
       "      <td>Female</td>\n",
       "      <td>935</td>\n",
       "      <td>935</td>\n",
       "      <td>935</td>\n",
       "      <td>935</td>\n",
       "      <td>935</td>\n",
       "      <td>935</td>\n",
       "      <td>935</td>\n",
       "    </tr>\n",
       "    <tr>\n",
       "      <th>1</th>\n",
       "      <td>Male</td>\n",
       "      <td>958</td>\n",
       "      <td>958</td>\n",
       "      <td>958</td>\n",
       "      <td>958</td>\n",
       "      <td>958</td>\n",
       "      <td>958</td>\n",
       "      <td>958</td>\n",
       "    </tr>\n",
       "  </tbody>\n",
       "</table>\n",
       "</div>"
      ],
      "text/plain": [
       "      Sex  Mouse ID  Drug Regimen  Age_months  Weight (g)  Timepoint  \\\n",
       "0  Female       935           935         935         935        935   \n",
       "1    Male       958           958         958         958        958   \n",
       "\n",
       "   Tumor Volume (mm3)  Metastatic Sites  \n",
       "0                 935               935  \n",
       "1                 958               958  "
      ]
     },
     "execution_count": 9,
     "metadata": {},
     "output_type": "execute_result"
    }
   ],
   "source": [
    "# Generate a pie plot showing the distribution of female versus male mice using pandas\n",
    "gender_data = pd.DataFrame(merge_data.groupby(['Sex']).count()).reset_index()\n",
    "gender_data.head() \n"
   ]
  },
  {
   "cell_type": "code",
   "execution_count": 10,
   "metadata": {},
   "outputs": [
    {
     "data": {
      "text/html": [
       "<div>\n",
       "<style scoped>\n",
       "    .dataframe tbody tr th:only-of-type {\n",
       "        vertical-align: middle;\n",
       "    }\n",
       "\n",
       "    .dataframe tbody tr th {\n",
       "        vertical-align: top;\n",
       "    }\n",
       "\n",
       "    .dataframe thead th {\n",
       "        text-align: right;\n",
       "    }\n",
       "</style>\n",
       "<table border=\"1\" class=\"dataframe\">\n",
       "  <thead>\n",
       "    <tr style=\"text-align: right;\">\n",
       "      <th></th>\n",
       "      <th>Sex</th>\n",
       "      <th>Count</th>\n",
       "    </tr>\n",
       "  </thead>\n",
       "  <tbody>\n",
       "    <tr>\n",
       "      <th>0</th>\n",
       "      <td>Female</td>\n",
       "      <td>935</td>\n",
       "    </tr>\n",
       "    <tr>\n",
       "      <th>1</th>\n",
       "      <td>Male</td>\n",
       "      <td>958</td>\n",
       "    </tr>\n",
       "  </tbody>\n",
       "</table>\n",
       "</div>"
      ],
      "text/plain": [
       "      Sex  Count\n",
       "0  Female    935\n",
       "1    Male    958"
      ]
     },
     "execution_count": 10,
     "metadata": {},
     "output_type": "execute_result"
    }
   ],
   "source": [
    "gender_data = gender_data[['Sex', 'Mouse ID']]\n",
    "gender_data = gender_data.rename(columns={'Mouse ID': 'Count'})\n",
    "gender_data.head()"
   ]
  },
  {
   "cell_type": "code",
   "execution_count": null,
   "metadata": {},
   "outputs": [],
   "source": []
  },
  {
   "cell_type": "code",
   "execution_count": 11,
   "metadata": {
    "scrolled": true
   },
   "outputs": [
    {
     "data": {
      "text/plain": [
       "<matplotlib.axes._subplots.AxesSubplot at 0x1a1891f450>"
      ]
     },
     "execution_count": 11,
     "metadata": {},
     "output_type": "execute_result"
    },
    {
     "data": {
      "image/png": "[encoded data removed]",
      "text/plain": [
       "<Figure size 720x432 with 1 Axes>"
      ]
     },
     "metadata": {},
     "output_type": "display_data"
    }
   ],
   "source": [
    "plt.figure(figsize=(10,6))\n",
    "axl = plt.subplot(121, aspect = 'equal')\n",
    "gender_data.plot(kind = 'pie', y = \"Count\", ax = axl, autopct = \"%1.1f%%\", startangle = 90, shadow = True, labels = gender_data['Sex'], legend = False, fontsize=15)\n",
    "\n"
   ]
  },
  {
   "cell_type": "code",
   "execution_count": 32,
   "metadata": {},
   "outputs": [
    {
     "data": {
      "text/plain": [
       "([<matplotlib.patches.Wedge at 0x1a19bf0a50>,\n",
       "  <matplotlib.patches.Wedge at 0x1a19be7750>],\n",
       " [Text(-1.0997996703027118, 0.02099250347258563, 'Females'),\n",
       "  Text(1.0997996703027118, -0.020992503472586254, 'Males')],\n",
       " [Text(-0.5998907292560246, 0.01145045643959216, '49.4%'),\n",
       "  Text(0.5998907292560246, -0.0114504564395925, '50.6%')])"
      ]
     },
     "execution_count": 32,
     "metadata": {},
     "output_type": "execute_result"
    },
    {
     "data": {
      "image/png": "[encoded data removed]",
      "text/plain": [
       "<Figure size 432x288 with 1 Axes>"
      ]
     },
     "metadata": {},
     "output_type": "display_data"
    }
   ],
   "source": [
    "# Generate a pie plot showing the distribution of female versus male mice using pyplot\n",
    "gender_vs = (merge_data.groupby(['Sex'])['Age_months'].count()).tolist()\n",
    "gender_vs\n",
    "\n",
    "labels = ['Females', 'Males']\n",
    "colors = [\"pink\", \"green\"]\n",
    "\n",
    "plt.pie(gender_vs, labels = labels, colors = colors, autopct=\"%1.1f%%\", shadow = True, startangle=90)\n",
    "\n",
    "\n",
    "\n"
   ]
  },
  {
   "cell_type": "code",
   "execution_count": 27,
   "metadata": {},
   "outputs": [
    {
     "ename": "TypeError",
     "evalue": "pie() got an unexpected keyword argument 'label'",
     "output_type": "error",
     "traceback": [
      "\u001b[0;31m---------------------------------------------------------------------------\u001b[0m",
      "\u001b[0;31mTypeError\u001b[0m                                 Traceback (most recent call last)",
      "\u001b[0;32m<ipython-input-27-089500e3098f>\u001b[0m in \u001b[0;36m<module>\u001b[0;34m\u001b[0m\n\u001b[0;32m----> 1\u001b[0;31m \u001b[0mplt\u001b[0m\u001b[0;34m.\u001b[0m\u001b[0mpie\u001b[0m\u001b[0;34m(\u001b[0m\u001b[0mgender_vs\u001b[0m\u001b[0;34m,\u001b[0m \u001b[0mexplode\u001b[0m \u001b[0;34m=\u001b[0m \u001b[0mexplode\u001b[0m\u001b[0;34m,\u001b[0m \u001b[0mlabel\u001b[0m \u001b[0;34m=\u001b[0m \u001b[0mlabel\u001b[0m\u001b[0;34m,\u001b[0m \u001b[0mcolor\u001b[0m \u001b[0;34m=\u001b[0m \u001b[0mcolor\u001b[0m\u001b[0;34m,\u001b[0m \u001b[0mautopct\u001b[0m\u001b[0;34m=\u001b[0m\u001b[0;34m\"%1.1f%%\"\u001b[0m\u001b[0;34m,\u001b[0m \u001b[0mshadow\u001b[0m \u001b[0;34m=\u001b[0m \u001b[0;32mFalse\u001b[0m\u001b[0;34m,\u001b[0m \u001b[0mstartangle\u001b[0m\u001b[0;34m=\u001b[0m\u001b[0;36m90\u001b[0m\u001b[0;34m)\u001b[0m\u001b[0;34m\u001b[0m\u001b[0;34m\u001b[0m\u001b[0m\n\u001b[0m",
      "\u001b[0;31mTypeError\u001b[0m: pie() got an unexpected keyword argument 'label'"
     ]
    }
   ],
   "source": []
  },
  {
   "cell_type": "markdown",
   "metadata": {},
   "source": [
    "## Quartiles, Outliers and Boxplots"
   ]
  },
  {
   "cell_type": "code",
   "execution_count": 36,
   "metadata": {},
   "outputs": [
    {
     "data": {
      "text/html": [
       "<div>\n",
       "<style scoped>\n",
       "    .dataframe tbody tr th:only-of-type {\n",
       "        vertical-align: middle;\n",
       "    }\n",
       "\n",
       "    .dataframe tbody tr th {\n",
       "        vertical-align: top;\n",
       "    }\n",
       "\n",
       "    .dataframe thead th {\n",
       "        text-align: right;\n",
       "    }\n",
       "</style>\n",
       "<table border=\"1\" class=\"dataframe\">\n",
       "  <thead>\n",
       "    <tr style=\"text-align: right;\">\n",
       "      <th></th>\n",
       "      <th>Mouse ID</th>\n",
       "      <th>Drug Regimen</th>\n",
       "      <th>Sex</th>\n",
       "      <th>Age_months</th>\n",
       "      <th>Weight (g)</th>\n",
       "      <th>Timepoint</th>\n",
       "      <th>Tumor Volume (mm3)</th>\n",
       "      <th>Metastatic Sites</th>\n",
       "    </tr>\n",
       "  </thead>\n",
       "  <tbody>\n",
       "    <tr>\n",
       "      <th>309</th>\n",
       "      <td>b128</td>\n",
       "      <td>Capomulin</td>\n",
       "      <td>Female</td>\n",
       "      <td>9</td>\n",
       "      <td>22</td>\n",
       "      <td>45</td>\n",
       "      <td>38.982878</td>\n",
       "      <td>2</td>\n",
       "    </tr>\n",
       "    <tr>\n",
       "      <th>299</th>\n",
       "      <td>b742</td>\n",
       "      <td>Capomulin</td>\n",
       "      <td>Male</td>\n",
       "      <td>7</td>\n",
       "      <td>21</td>\n",
       "      <td>45</td>\n",
       "      <td>38.939633</td>\n",
       "      <td>0</td>\n",
       "    </tr>\n",
       "    <tr>\n",
       "      <th>244</th>\n",
       "      <td>g288</td>\n",
       "      <td>Capomulin</td>\n",
       "      <td>Male</td>\n",
       "      <td>3</td>\n",
       "      <td>19</td>\n",
       "      <td>45</td>\n",
       "      <td>37.074024</td>\n",
       "      <td>1</td>\n",
       "    </tr>\n",
       "    <tr>\n",
       "      <th>360</th>\n",
       "      <td>g316</td>\n",
       "      <td>Capomulin</td>\n",
       "      <td>Female</td>\n",
       "      <td>22</td>\n",
       "      <td>22</td>\n",
       "      <td>45</td>\n",
       "      <td>40.159220</td>\n",
       "      <td>2</td>\n",
       "    </tr>\n",
       "    <tr>\n",
       "      <th>440</th>\n",
       "      <td>i557</td>\n",
       "      <td>Capomulin</td>\n",
       "      <td>Female</td>\n",
       "      <td>1</td>\n",
       "      <td>24</td>\n",
       "      <td>45</td>\n",
       "      <td>47.685963</td>\n",
       "      <td>1</td>\n",
       "    </tr>\n",
       "  </tbody>\n",
       "</table>\n",
       "</div>"
      ],
      "text/plain": [
       "    Mouse ID Drug Regimen     Sex  Age_months  Weight (g)  Timepoint  \\\n",
       "309     b128    Capomulin  Female           9          22         45   \n",
       "299     b742    Capomulin    Male           7          21         45   \n",
       "244     g288    Capomulin    Male           3          19         45   \n",
       "360     g316    Capomulin  Female          22          22         45   \n",
       "440     i557    Capomulin  Female           1          24         45   \n",
       "\n",
       "     Tumor Volume (mm3)  Metastatic Sites  \n",
       "309           38.982878                 2  \n",
       "299           38.939633                 0  \n",
       "244           37.074024                 1  \n",
       "360           40.159220                 2  \n",
       "440           47.685963                 1  "
      ]
     },
     "execution_count": 36,
     "metadata": {},
     "output_type": "execute_result"
    }
   ],
   "source": [
    "# Calculate the final tumor volume of each mouse across four of the most promising treatment regimens. Calculate the IQR and quantitatively determine if there are any potential outliers.\n",
    "treatment_df = merge_data.sort_values(['Drug Regimen', 'Mouse ID', 'Timepoint'])\n",
    "\n",
    "final_df = treatment_df.loc[treatment_df['Timepoint']==45]\n",
    "final_df.head()\n",
    "\n",
    "#4 regimens of interest are : Ceftamin, Ramicane, Capomulin, Infubinole\n",
    "\n",
    "#4 separate plots\n"
   ]
  },
  {
   "cell_type": "code",
   "execution_count": null,
   "metadata": {},
   "outputs": [],
   "source": [
    "# Generate a box plot of the final tumor volume of each mouse across four regimens of interest"
   ]
  },
  {
   "cell_type": "code",
   "execution_count": 37,
   "metadata": {},
   "outputs": [
    {
     "data": {
      "text/html": [
       "<div>\n",
       "<style scoped>\n",
       "    .dataframe tbody tr th:only-of-type {\n",
       "        vertical-align: middle;\n",
       "    }\n",
       "\n",
       "    .dataframe tbody tr th {\n",
       "        vertical-align: top;\n",
       "    }\n",
       "\n",
       "    .dataframe thead th {\n",
       "        text-align: right;\n",
       "    }\n",
       "</style>\n",
       "<table border=\"1\" class=\"dataframe\">\n",
       "  <thead>\n",
       "    <tr style=\"text-align: right;\">\n",
       "      <th></th>\n",
       "      <th>Mouse ID</th>\n",
       "      <th>Drug Regimen</th>\n",
       "      <th>Sex</th>\n",
       "      <th>Age_months</th>\n",
       "      <th>Weight (g)</th>\n",
       "      <th>Timepoint</th>\n",
       "      <th>Tumor Volume (mm3)</th>\n",
       "      <th>Metastatic Sites</th>\n",
       "    </tr>\n",
       "  </thead>\n",
       "  <tbody>\n",
       "    <tr>\n",
       "      <th>493</th>\n",
       "      <td>a275</td>\n",
       "      <td>Ceftamin</td>\n",
       "      <td>Female</td>\n",
       "      <td>20</td>\n",
       "      <td>28</td>\n",
       "      <td>45</td>\n",
       "      <td>62.999356</td>\n",
       "      <td>3</td>\n",
       "    </tr>\n",
       "    <tr>\n",
       "      <th>993</th>\n",
       "      <td>j296</td>\n",
       "      <td>Ceftamin</td>\n",
       "      <td>Female</td>\n",
       "      <td>24</td>\n",
       "      <td>30</td>\n",
       "      <td>45</td>\n",
       "      <td>61.849023</td>\n",
       "      <td>3</td>\n",
       "    </tr>\n",
       "    <tr>\n",
       "      <th>1033</th>\n",
       "      <td>k210</td>\n",
       "      <td>Ceftamin</td>\n",
       "      <td>Male</td>\n",
       "      <td>15</td>\n",
       "      <td>28</td>\n",
       "      <td>45</td>\n",
       "      <td>68.923185</td>\n",
       "      <td>3</td>\n",
       "    </tr>\n",
       "    <tr>\n",
       "      <th>1112</th>\n",
       "      <td>l471</td>\n",
       "      <td>Ceftamin</td>\n",
       "      <td>Female</td>\n",
       "      <td>7</td>\n",
       "      <td>28</td>\n",
       "      <td>45</td>\n",
       "      <td>67.748662</td>\n",
       "      <td>1</td>\n",
       "    </tr>\n",
       "    <tr>\n",
       "      <th>1132</th>\n",
       "      <td>l661</td>\n",
       "      <td>Ceftamin</td>\n",
       "      <td>Male</td>\n",
       "      <td>18</td>\n",
       "      <td>26</td>\n",
       "      <td>45</td>\n",
       "      <td>59.851956</td>\n",
       "      <td>3</td>\n",
       "    </tr>\n",
       "  </tbody>\n",
       "</table>\n",
       "</div>"
      ],
      "text/plain": [
       "     Mouse ID Drug Regimen     Sex  Age_months  Weight (g)  Timepoint  \\\n",
       "493      a275     Ceftamin  Female          20          28         45   \n",
       "993      j296     Ceftamin  Female          24          30         45   \n",
       "1033     k210     Ceftamin    Male          15          28         45   \n",
       "1112     l471     Ceftamin  Female           7          28         45   \n",
       "1132     l661     Ceftamin    Male          18          26         45   \n",
       "\n",
       "      Tumor Volume (mm3)  Metastatic Sites  \n",
       "493            62.999356                 3  \n",
       "993            61.849023                 3  \n",
       "1033           68.923185                 3  \n",
       "1112           67.748662                 1  \n",
       "1132           59.851956                 3  "
      ]
     },
     "execution_count": 37,
     "metadata": {},
     "output_type": "execute_result"
    }
   ],
   "source": [
    "#Ceftamin table & outliers\n",
    "ceft_df = final_df[final_df['Drug Regimen'].isin(['Ceftamin'])]\n",
    "ceft_df.head()\n",
    "\n"
   ]
  },
  {
   "cell_type": "code",
   "execution_count": 39,
   "metadata": {},
   "outputs": [
    {
     "data": {
      "text/plain": [
       "1260    59.741901\n",
       "1132    59.851956\n",
       "1797    61.386660\n",
       "1379    61.433892\n",
       "993     61.849023\n",
       "493     62.999356\n",
       "1162    64.299830\n",
       "1773    64.634949\n",
       "1855    64.729837\n",
       "1670    67.527482\n",
       "1112    67.748662\n",
       "1845    68.594745\n",
       "1033    68.923185\n",
       "Name: Tumor Volume (mm3), dtype: float64"
      ]
     },
     "execution_count": 39,
     "metadata": {},
     "output_type": "execute_result"
    }
   ],
   "source": [
    "ceft_data = ceft_df.sort_values([\"Tumor Volume (mm3)\"])\n",
    "ceft_data = ceft_data['Tumor Volume (mm3)']\n",
    "ceft_data"
   ]
  },
  {
   "cell_type": "code",
   "execution_count": 43,
   "metadata": {},
   "outputs": [
    {
     "name": "stdout",
     "output_type": "stream",
     "text": [
      "The lower quartile is: 61.43389223\n",
      "The upper quartile is: 67.52748237\n",
      "The interquartile range is: 6.093590140000003\n",
      "The median is: 64.29983003\n",
      "52.29350701999999 and below could be outliers\n",
      "76.66786758 and above could be outliers\n"
     ]
    }
   ],
   "source": [
    "quartiles = ceft_data.quantile([0.25, 0.5, 0.75])\n",
    "lowerq = quartiles[0.25]\n",
    "upperq= quartiles[0.75]\n",
    "iqr = upperq - lowerq\n",
    "\n",
    "print(f'The lower quartile is: {lowerq}')\n",
    "print(f'The upper quartile is: {upperq}')\n",
    "print(f'The interquartile range is: {iqr}')\n",
    "print(f\"The median is: {quartiles[0.5]}\")\n",
    "\n",
    "low_bound = lowerq - (1.5*iqr)\n",
    "high_bound = upperq + (1.5*iqr)\n",
    "print(f\"{low_bound} and below could be outliers\")\n",
    "print(f\"{high_bound} and above could be outliers\")"
   ]
  },
  {
   "cell_type": "code",
   "execution_count": 44,
   "metadata": {},
   "outputs": [
    {
     "data": {
      "image/png": "[encoded data removed]",
      "text/plain": [
       "<Figure size 432x288 with 1 Axes>"
      ]
     },
     "metadata": {
      "needs_background": "light"
     },
     "output_type": "display_data"
    }
   ],
   "source": [
    "figl, axl = plt.subplots()\n",
    "axl.set_title('Ceftaimin Regimen')\n",
    "axl.set_ylabel('Tumor Volume (mm3)')\n",
    "axl.boxplot(ceft_data)\n",
    "plt.show()"
   ]
  },
  {
   "cell_type": "code",
   "execution_count": 46,
   "metadata": {},
   "outputs": [
    {
     "data": {
      "text/html": [
       "<div>\n",
       "<style scoped>\n",
       "    .dataframe tbody tr th:only-of-type {\n",
       "        vertical-align: middle;\n",
       "    }\n",
       "\n",
       "    .dataframe tbody tr th {\n",
       "        vertical-align: top;\n",
       "    }\n",
       "\n",
       "    .dataframe thead th {\n",
       "        text-align: right;\n",
       "    }\n",
       "</style>\n",
       "<table border=\"1\" class=\"dataframe\">\n",
       "  <thead>\n",
       "    <tr style=\"text-align: right;\">\n",
       "      <th></th>\n",
       "      <th>Mouse ID</th>\n",
       "      <th>Drug Regimen</th>\n",
       "      <th>Sex</th>\n",
       "      <th>Age_months</th>\n",
       "      <th>Weight (g)</th>\n",
       "      <th>Timepoint</th>\n",
       "      <th>Tumor Volume (mm3)</th>\n",
       "      <th>Metastatic Sites</th>\n",
       "    </tr>\n",
       "  </thead>\n",
       "  <tbody>\n",
       "    <tr>\n",
       "      <th>327</th>\n",
       "      <td>a411</td>\n",
       "      <td>Ramicane</td>\n",
       "      <td>Male</td>\n",
       "      <td>3</td>\n",
       "      <td>22</td>\n",
       "      <td>45</td>\n",
       "      <td>38.407618</td>\n",
       "      <td>1</td>\n",
       "    </tr>\n",
       "    <tr>\n",
       "      <th>430</th>\n",
       "      <td>a444</td>\n",
       "      <td>Ramicane</td>\n",
       "      <td>Female</td>\n",
       "      <td>10</td>\n",
       "      <td>25</td>\n",
       "      <td>45</td>\n",
       "      <td>43.047543</td>\n",
       "      <td>0</td>\n",
       "    </tr>\n",
       "    <tr>\n",
       "      <th>214</th>\n",
       "      <td>a520</td>\n",
       "      <td>Ramicane</td>\n",
       "      <td>Male</td>\n",
       "      <td>13</td>\n",
       "      <td>21</td>\n",
       "      <td>45</td>\n",
       "      <td>38.810366</td>\n",
       "      <td>1</td>\n",
       "    </tr>\n",
       "    <tr>\n",
       "      <th>174</th>\n",
       "      <td>a644</td>\n",
       "      <td>Ramicane</td>\n",
       "      <td>Female</td>\n",
       "      <td>7</td>\n",
       "      <td>17</td>\n",
       "      <td>45</td>\n",
       "      <td>32.978522</td>\n",
       "      <td>1</td>\n",
       "    </tr>\n",
       "    <tr>\n",
       "      <th>154</th>\n",
       "      <td>c758</td>\n",
       "      <td>Ramicane</td>\n",
       "      <td>Male</td>\n",
       "      <td>9</td>\n",
       "      <td>17</td>\n",
       "      <td>45</td>\n",
       "      <td>33.397653</td>\n",
       "      <td>1</td>\n",
       "    </tr>\n",
       "  </tbody>\n",
       "</table>\n",
       "</div>"
      ],
      "text/plain": [
       "    Mouse ID Drug Regimen     Sex  Age_months  Weight (g)  Timepoint  \\\n",
       "327     a411     Ramicane    Male           3          22         45   \n",
       "430     a444     Ramicane  Female          10          25         45   \n",
       "214     a520     Ramicane    Male          13          21         45   \n",
       "174     a644     Ramicane  Female           7          17         45   \n",
       "154     c758     Ramicane    Male           9          17         45   \n",
       "\n",
       "     Tumor Volume (mm3)  Metastatic Sites  \n",
       "327           38.407618                 1  \n",
       "430           43.047543                 0  \n",
       "214           38.810366                 1  \n",
       "174           32.978522                 1  \n",
       "154           33.397653                 1  "
      ]
     },
     "execution_count": 46,
     "metadata": {},
     "output_type": "execute_result"
    }
   ],
   "source": [
    "#Ramicane table & outliers\n",
    "rami_df = final_df[final_df[\"Drug Regimen\"].isin(['Ramicane'])]\n",
    "rami_df.head()"
   ]
  },
  {
   "cell_type": "code",
   "execution_count": 47,
   "metadata": {},
   "outputs": [
    {
     "data": {
      "text/plain": [
       "9      22.050126\n",
       "49     29.128472\n",
       "59     30.276232\n",
       "74     30.564625\n",
       "84     30.638696\n",
       "114    31.095335\n",
       "94     31.560470\n",
       "174    32.978522\n",
       "154    33.397653\n",
       "184    33.562402\n",
       "194    36.134852\n",
       "254    36.374510\n",
       "234    37.225650\n",
       "272    37.311236\n",
       "327    38.407618\n",
       "214    38.810366\n",
       "400    40.659006\n",
       "410    40.667713\n",
       "430    43.047543\n",
       "420    45.220869\n",
       "Name: Tumor Volume (mm3), dtype: float64"
      ]
     },
     "execution_count": 47,
     "metadata": {},
     "output_type": "execute_result"
    }
   ],
   "source": [
    "rami_data = rami_df.sort_values([\"Tumor Volume (mm3)\"])\n",
    "rami_data = rami_data[\"Tumor Volume (mm3)\"]\n",
    "rami_data"
   ]
  },
  {
   "cell_type": "code",
   "execution_count": 48,
   "metadata": {},
   "outputs": [
    {
     "name": "stdout",
     "output_type": "stream",
     "text": [
      "The lower quartile is: 30.981175224999998\n",
      "The upper quartile is: 38.508305307499995\n",
      "The interquartile is: 7.527130082499998\n",
      "The median is: 34.848627300000004\n",
      "19.690480101250003 and below could be outliers\n",
      "49.79900043124999 and above could be outliers\n"
     ]
    }
   ],
   "source": [
    "quartiles = rami_data.quantile([0.25, 0.5, 0.75])\n",
    "lowerq = quartiles[0.25]\n",
    "upperq = quartiles[0.75]\n",
    "iqr = upperq - lowerq\n",
    "\n",
    "print(f\"The lower quartile is: {lowerq}\")\n",
    "print(f\"The upper quartile is: {upperq}\")\n",
    "print(f\"The interquartile is: {iqr}\")\n",
    "print(f\"The median is: {quartiles[0.5]}\")\n",
    "\n",
    "low_bound = lowerq - (1.5*iqr)\n",
    "high_bound = upperq + (1.5*iqr)\n",
    "print(f\"{low_bound} and below could be outliers\")\n",
    "print(f\"{high_bound} and above could be outliers\")\n"
   ]
  },
  {
   "cell_type": "code",
   "execution_count": 49,
   "metadata": {},
   "outputs": [
    {
     "data": {
      "image/png": "[encoded data removed]",
      "text/plain": [
       "<Figure size 432x288 with 1 Axes>"
      ]
     },
     "metadata": {
      "needs_background": "light"
     },
     "output_type": "display_data"
    }
   ],
   "source": [
    "#table\n",
    "figl, axl = plt.subplots()\n",
    "axl.set_title(\"Ramicane Regimen\")\n",
    "axl.set_ylabel(\"Final Tumor Volume (mm3)\")\n",
    "axl.boxplot(rami_data)\n",
    "plt.show()"
   ]
  },
  {
   "cell_type": "code",
   "execution_count": 53,
   "metadata": {},
   "outputs": [
    {
     "data": {
      "text/html": [
       "<div>\n",
       "<style scoped>\n",
       "    .dataframe tbody tr th:only-of-type {\n",
       "        vertical-align: middle;\n",
       "    }\n",
       "\n",
       "    .dataframe tbody tr th {\n",
       "        vertical-align: top;\n",
       "    }\n",
       "\n",
       "    .dataframe thead th {\n",
       "        text-align: right;\n",
       "    }\n",
       "</style>\n",
       "<table border=\"1\" class=\"dataframe\">\n",
       "  <thead>\n",
       "    <tr style=\"text-align: right;\">\n",
       "      <th></th>\n",
       "      <th>Mouse ID</th>\n",
       "      <th>Drug Regimen</th>\n",
       "      <th>Sex</th>\n",
       "      <th>Age_months</th>\n",
       "      <th>Weight (g)</th>\n",
       "      <th>Timepoint</th>\n",
       "      <th>Tumor Volume (mm3)</th>\n",
       "      <th>Metastatic Sites</th>\n",
       "    </tr>\n",
       "  </thead>\n",
       "  <tbody>\n",
       "    <tr>\n",
       "      <th>309</th>\n",
       "      <td>b128</td>\n",
       "      <td>Capomulin</td>\n",
       "      <td>Female</td>\n",
       "      <td>9</td>\n",
       "      <td>22</td>\n",
       "      <td>45</td>\n",
       "      <td>38.982878</td>\n",
       "      <td>2</td>\n",
       "    </tr>\n",
       "    <tr>\n",
       "      <th>299</th>\n",
       "      <td>b742</td>\n",
       "      <td>Capomulin</td>\n",
       "      <td>Male</td>\n",
       "      <td>7</td>\n",
       "      <td>21</td>\n",
       "      <td>45</td>\n",
       "      <td>38.939633</td>\n",
       "      <td>0</td>\n",
       "    </tr>\n",
       "    <tr>\n",
       "      <th>244</th>\n",
       "      <td>g288</td>\n",
       "      <td>Capomulin</td>\n",
       "      <td>Male</td>\n",
       "      <td>3</td>\n",
       "      <td>19</td>\n",
       "      <td>45</td>\n",
       "      <td>37.074024</td>\n",
       "      <td>1</td>\n",
       "    </tr>\n",
       "    <tr>\n",
       "      <th>360</th>\n",
       "      <td>g316</td>\n",
       "      <td>Capomulin</td>\n",
       "      <td>Female</td>\n",
       "      <td>22</td>\n",
       "      <td>22</td>\n",
       "      <td>45</td>\n",
       "      <td>40.159220</td>\n",
       "      <td>2</td>\n",
       "    </tr>\n",
       "    <tr>\n",
       "      <th>440</th>\n",
       "      <td>i557</td>\n",
       "      <td>Capomulin</td>\n",
       "      <td>Female</td>\n",
       "      <td>1</td>\n",
       "      <td>24</td>\n",
       "      <td>45</td>\n",
       "      <td>47.685963</td>\n",
       "      <td>1</td>\n",
       "    </tr>\n",
       "  </tbody>\n",
       "</table>\n",
       "</div>"
      ],
      "text/plain": [
       "    Mouse ID Drug Regimen     Sex  Age_months  Weight (g)  Timepoint  \\\n",
       "309     b128    Capomulin  Female           9          22         45   \n",
       "299     b742    Capomulin    Male           7          21         45   \n",
       "244     g288    Capomulin    Male           3          19         45   \n",
       "360     g316    Capomulin  Female          22          22         45   \n",
       "440     i557    Capomulin  Female           1          24         45   \n",
       "\n",
       "     Tumor Volume (mm3)  Metastatic Sites  \n",
       "309           38.982878                 2  \n",
       "299           38.939633                 0  \n",
       "244           37.074024                 1  \n",
       "360           40.159220                 2  \n",
       "440           47.685963                 1  "
      ]
     },
     "execution_count": 53,
     "metadata": {},
     "output_type": "execute_result"
    }
   ],
   "source": [
    "#Capomulin\n",
    "capo_df = final_df[final_df[\"Drug Regimen\"].isin([\"Capomulin\"])]\n",
    "capo_df.head()\n"
   ]
  },
  {
   "cell_type": "code",
   "execution_count": 55,
   "metadata": {},
   "outputs": [
    {
     "data": {
      "text/plain": [
       "19     23.343598\n",
       "39     28.430964\n",
       "29     28.484033\n",
       "104    31.023923\n",
       "124    31.896238\n",
       "134    32.377357\n",
       "144    33.329098\n",
       "164    34.455298\n",
       "224    36.041047\n",
       "244    37.074024\n",
       "204    37.311846\n",
       "337    38.125164\n",
       "282    38.846876\n",
       "299    38.939633\n",
       "309    38.982878\n",
       "360    40.159220\n",
       "350    40.658124\n",
       "370    40.728578\n",
       "380    41.483008\n",
       "390    41.581521\n",
       "440    47.685963\n",
       "Name: Tumor Volume (mm3), dtype: float64"
      ]
     },
     "execution_count": 55,
     "metadata": {},
     "output_type": "execute_result"
    }
   ],
   "source": [
    "capo_data = capo_df.sort_values(['Tumor Volume (mm3)'])\n",
    "capo_data = capo_data[\"Tumor Volume (mm3)\"]\n",
    "capo_data"
   ]
  },
  {
   "cell_type": "code",
   "execution_count": 60,
   "metadata": {},
   "outputs": [
    {
     "name": "stdout",
     "output_type": "stream",
     "text": [
      "The lower quartile is: 32.37735684\n",
      "The upper quartile is: 40.1592203\n",
      "The interquartile range is: 7.781863460000004\n",
      "The median is: 37.31184577\n",
      "20.70456164999999 and below could be outliers\n",
      "51.83201549 and below could be outliers\n"
     ]
    }
   ],
   "source": [
    "quartiles = capo_data.quantile([0.25, 0.5, 0.75])\n",
    "lowerq = quartiles[0.25]\n",
    "upperq= quartiles[0.75]\n",
    "iqr = upperq - lowerq\n",
    "\n",
    "print(f\"The lower quartile is: {lowerq}\")\n",
    "print(f\"The upper quartile is: {upperq}\")\n",
    "print(f\"The interquartile range is: {iqr}\")\n",
    "print(f\"The median is: {quartiles[0.5]}\")\n",
    "\n",
    "low_bound = lowerq - (1.5*iqr)\n",
    "high_bound = upperq + (1.5*iqr)\n",
    "\n",
    "print(f\"{low_bound} and below could be outliers\")\n",
    "print(f\"{high_bound} and below could be outliers\")\n"
   ]
  },
  {
   "cell_type": "code",
   "execution_count": 61,
   "metadata": {},
   "outputs": [
    {
     "data": {
      "image/png": "[encoded data removed]",
      "text/plain": [
       "<Figure size 432x288 with 1 Axes>"
      ]
     },
     "metadata": {
      "needs_background": "light"
     },
     "output_type": "display_data"
    }
   ],
   "source": [
    "#table\n",
    "figl, axl = plt.subplots()\n",
    "axl.set_title(\"Capomulin Regimen\")\n",
    "axl.set_ylabel(\"Final Tumor Volume (mm3)\")\n",
    "axl.boxplot(capo_data)\n",
    "plt.show()"
   ]
  },
  {
   "cell_type": "code",
   "execution_count": 62,
   "metadata": {},
   "outputs": [
    {
     "data": {
      "text/html": [
       "<div>\n",
       "<style scoped>\n",
       "    .dataframe tbody tr th:only-of-type {\n",
       "        vertical-align: middle;\n",
       "    }\n",
       "\n",
       "    .dataframe tbody tr th {\n",
       "        vertical-align: top;\n",
       "    }\n",
       "\n",
       "    .dataframe thead th {\n",
       "        text-align: right;\n",
       "    }\n",
       "</style>\n",
       "<table border=\"1\" class=\"dataframe\">\n",
       "  <thead>\n",
       "    <tr style=\"text-align: right;\">\n",
       "      <th></th>\n",
       "      <th>Mouse ID</th>\n",
       "      <th>Drug Regimen</th>\n",
       "      <th>Sex</th>\n",
       "      <th>Age_months</th>\n",
       "      <th>Weight (g)</th>\n",
       "      <th>Timepoint</th>\n",
       "      <th>Tumor Volume (mm3)</th>\n",
       "      <th>Metastatic Sites</th>\n",
       "    </tr>\n",
       "  </thead>\n",
       "  <tbody>\n",
       "    <tr>\n",
       "      <th>463</th>\n",
       "      <td>a203</td>\n",
       "      <td>Infubinol</td>\n",
       "      <td>Female</td>\n",
       "      <td>20</td>\n",
       "      <td>23</td>\n",
       "      <td>45</td>\n",
       "      <td>67.973419</td>\n",
       "      <td>2</td>\n",
       "    </tr>\n",
       "    <tr>\n",
       "      <th>473</th>\n",
       "      <td>a251</td>\n",
       "      <td>Infubinol</td>\n",
       "      <td>Female</td>\n",
       "      <td>21</td>\n",
       "      <td>25</td>\n",
       "      <td>45</td>\n",
       "      <td>65.525743</td>\n",
       "      <td>1</td>\n",
       "    </tr>\n",
       "    <tr>\n",
       "      <th>540</th>\n",
       "      <td>a685</td>\n",
       "      <td>Infubinol</td>\n",
       "      <td>Male</td>\n",
       "      <td>8</td>\n",
       "      <td>30</td>\n",
       "      <td>45</td>\n",
       "      <td>66.083066</td>\n",
       "      <td>3</td>\n",
       "    </tr>\n",
       "    <tr>\n",
       "      <th>637</th>\n",
       "      <td>c139</td>\n",
       "      <td>Infubinol</td>\n",
       "      <td>Male</td>\n",
       "      <td>11</td>\n",
       "      <td>28</td>\n",
       "      <td>45</td>\n",
       "      <td>72.226731</td>\n",
       "      <td>2</td>\n",
       "    </tr>\n",
       "    <tr>\n",
       "      <th>800</th>\n",
       "      <td>e476</td>\n",
       "      <td>Infubinol</td>\n",
       "      <td>Male</td>\n",
       "      <td>23</td>\n",
       "      <td>26</td>\n",
       "      <td>45</td>\n",
       "      <td>62.435404</td>\n",
       "      <td>1</td>\n",
       "    </tr>\n",
       "  </tbody>\n",
       "</table>\n",
       "</div>"
      ],
      "text/plain": [
       "    Mouse ID Drug Regimen     Sex  Age_months  Weight (g)  Timepoint  \\\n",
       "463     a203    Infubinol  Female          20          23         45   \n",
       "473     a251    Infubinol  Female          21          25         45   \n",
       "540     a685    Infubinol    Male           8          30         45   \n",
       "637     c139    Infubinol    Male          11          28         45   \n",
       "800     e476    Infubinol    Male          23          26         45   \n",
       "\n",
       "     Tumor Volume (mm3)  Metastatic Sites  \n",
       "463           67.973419                 2  \n",
       "473           65.525743                 1  \n",
       "540           66.083066                 3  \n",
       "637           72.226731                 2  \n",
       "800           62.435404                 1  "
      ]
     },
     "execution_count": 62,
     "metadata": {},
     "output_type": "execute_result"
    }
   ],
   "source": [
    "#infubinole\n",
    "infu_df = final_df[final_df[\"Drug Regimen\"].isin([\"Infubinol\"])]\n",
    "infu_df.head()"
   ]
  },
  {
   "cell_type": "code",
   "execution_count": 64,
   "metadata": {},
   "outputs": [
    {
     "data": {
      "text/plain": [
       "834     60.918767\n",
       "800     62.435404\n",
       "1872    62.754451\n",
       "473     65.525743\n",
       "540     66.083066\n",
       "1053    66.196912\n",
       "1813    67.685569\n",
       "463     67.973419\n",
       "637     72.226731\n",
       "Name: Tumor Volume (mm3), dtype: float64"
      ]
     },
     "execution_count": 64,
     "metadata": {},
     "output_type": "execute_result"
    }
   ],
   "source": [
    "infu_data = infu_df.sort_values([\"Tumor Volume (mm3)\"])\n",
    "infu_data = infu_data[\"Tumor Volume (mm3)\"]\n",
    "infu_data"
   ]
  },
  {
   "cell_type": "code",
   "execution_count": 66,
   "metadata": {},
   "outputs": [
    {
     "name": "stdout",
     "output_type": "stream",
     "text": [
      "The lower quartile is: 62.75445141\n",
      "The upper quartile is: 67.68556862\n",
      "The interquartile range is: 4.9311172099999965\n",
      "The median is 66.08306589\n",
      "55.35777559500001 and below could be outliers\n",
      "75.08224443499999 and below could be outliers\n"
     ]
    }
   ],
   "source": [
    "quartiles = infu_data.quantile([0.25, 0.5, 0.75])\n",
    "lowerq = quartiles[0.25]\n",
    "upperq = quartiles[0.75]\n",
    "iqr = upperq - lowerq\n",
    "\n",
    "print(f\"The lower quartile is: {lowerq}\")\n",
    "print(f\"The upper quartile is: {upperq}\")\n",
    "print(f\"The interquartile range is: {iqr}\")\n",
    "print(f\"The median is {quartiles[0.5]}\")\n",
    "\n",
    "low_bound = lowerq - (1.5*iqr)\n",
    "high_bound = upperq + (1.5*iqr)\n",
    "\n",
    "print(f\"{low_bound} and below could be outliers\")\n",
    "print(f\"{high_bound} and below could be outliers\")\n"
   ]
  },
  {
   "cell_type": "code",
   "execution_count": 67,
   "metadata": {},
   "outputs": [
    {
     "data": {
      "image/png": "[encoded data removed]",
      "text/plain": [
       "<Figure size 432x288 with 1 Axes>"
      ]
     },
     "metadata": {
      "needs_background": "light"
     },
     "output_type": "display_data"
    }
   ],
   "source": [
    "#table\n",
    "figl, axl = plt.subplots()\n",
    "axl.set_title(\"Infubinol Regimen\")\n",
    "axl.set_ylabel('Final Tumor Volume (mm3)')\n",
    "axl.boxplot(infu_data)\n",
    "plt.show()"
   ]
  },
  {
   "cell_type": "code",
   "execution_count": null,
   "metadata": {},
   "outputs": [],
   "source": []
  },
  {
   "cell_type": "code",
   "execution_count": null,
   "metadata": {},
   "outputs": [],
   "source": []
  },
  {
   "cell_type": "code",
   "execution_count": null,
   "metadata": {},
   "outputs": [],
   "source": []
  },
  {
   "cell_type": "code",
   "execution_count": null,
   "metadata": {},
   "outputs": [],
   "source": []
  },
  {
   "cell_type": "code",
   "execution_count": null,
   "metadata": {},
   "outputs": [],
   "source": []
  },
  {
   "cell_type": "code",
   "execution_count": null,
   "metadata": {},
   "outputs": [],
   "source": []
  },
  {
   "cell_type": "code",
   "execution_count": null,
   "metadata": {},
   "outputs": [],
   "source": []
  },
  {
   "cell_type": "code",
   "execution_count": null,
   "metadata": {},
   "outputs": [],
   "source": []
  },
  {
   "cell_type": "markdown",
   "metadata": {},
   "source": [
    "## Line and Scatter Plots"
   ]
  },
  {
   "cell_type": "code",
   "execution_count": 68,
   "metadata": {},
   "outputs": [
    {
     "data": {
      "text/html": [
       "<div>\n",
       "<style scoped>\n",
       "    .dataframe tbody tr th:only-of-type {\n",
       "        vertical-align: middle;\n",
       "    }\n",
       "\n",
       "    .dataframe tbody tr th {\n",
       "        vertical-align: top;\n",
       "    }\n",
       "\n",
       "    .dataframe thead th {\n",
       "        text-align: right;\n",
       "    }\n",
       "</style>\n",
       "<table border=\"1\" class=\"dataframe\">\n",
       "  <thead>\n",
       "    <tr style=\"text-align: right;\">\n",
       "      <th></th>\n",
       "      <th>Mouse ID</th>\n",
       "      <th>Drug Regimen</th>\n",
       "      <th>Sex</th>\n",
       "      <th>Age_months</th>\n",
       "      <th>Weight (g)</th>\n",
       "      <th>Timepoint</th>\n",
       "      <th>Tumor Volume (mm3)</th>\n",
       "      <th>Metastatic Sites</th>\n",
       "    </tr>\n",
       "  </thead>\n",
       "  <tbody>\n",
       "    <tr>\n",
       "      <th>10</th>\n",
       "      <td>s185</td>\n",
       "      <td>Capomulin</td>\n",
       "      <td>Female</td>\n",
       "      <td>3</td>\n",
       "      <td>17</td>\n",
       "      <td>0</td>\n",
       "      <td>45.000000</td>\n",
       "      <td>0</td>\n",
       "    </tr>\n",
       "    <tr>\n",
       "      <th>11</th>\n",
       "      <td>s185</td>\n",
       "      <td>Capomulin</td>\n",
       "      <td>Female</td>\n",
       "      <td>3</td>\n",
       "      <td>17</td>\n",
       "      <td>5</td>\n",
       "      <td>43.878496</td>\n",
       "      <td>0</td>\n",
       "    </tr>\n",
       "    <tr>\n",
       "      <th>12</th>\n",
       "      <td>s185</td>\n",
       "      <td>Capomulin</td>\n",
       "      <td>Female</td>\n",
       "      <td>3</td>\n",
       "      <td>17</td>\n",
       "      <td>10</td>\n",
       "      <td>37.614948</td>\n",
       "      <td>0</td>\n",
       "    </tr>\n",
       "    <tr>\n",
       "      <th>13</th>\n",
       "      <td>s185</td>\n",
       "      <td>Capomulin</td>\n",
       "      <td>Female</td>\n",
       "      <td>3</td>\n",
       "      <td>17</td>\n",
       "      <td>15</td>\n",
       "      <td>38.177232</td>\n",
       "      <td>0</td>\n",
       "    </tr>\n",
       "    <tr>\n",
       "      <th>14</th>\n",
       "      <td>s185</td>\n",
       "      <td>Capomulin</td>\n",
       "      <td>Female</td>\n",
       "      <td>3</td>\n",
       "      <td>17</td>\n",
       "      <td>20</td>\n",
       "      <td>36.866876</td>\n",
       "      <td>0</td>\n",
       "    </tr>\n",
       "  </tbody>\n",
       "</table>\n",
       "</div>"
      ],
      "text/plain": [
       "   Mouse ID Drug Regimen     Sex  Age_months  Weight (g)  Timepoint  \\\n",
       "10     s185    Capomulin  Female           3          17          0   \n",
       "11     s185    Capomulin  Female           3          17          5   \n",
       "12     s185    Capomulin  Female           3          17         10   \n",
       "13     s185    Capomulin  Female           3          17         15   \n",
       "14     s185    Capomulin  Female           3          17         20   \n",
       "\n",
       "    Tumor Volume (mm3)  Metastatic Sites  \n",
       "10           45.000000                 0  \n",
       "11           43.878496                 0  \n",
       "12           37.614948                 0  \n",
       "13           38.177232                 0  \n",
       "14           36.866876                 0  "
      ]
     },
     "execution_count": 68,
     "metadata": {},
     "output_type": "execute_result"
    }
   ],
   "source": [
    "# Generate a line plot of time point versus tumor volume for a mouse treated with Capomuli\n",
    "#Capomulin only\n",
    "\n",
    "capomulin_df = merge_data.loc[merge_data[\"Drug Regimen\"] == \"Capomulin\"]\n",
    "capomulin_df = capomulin_df\n",
    "capomulin_df.head()\n",
    "\n"
   ]
  },
  {
   "cell_type": "code",
   "execution_count": 69,
   "metadata": {},
   "outputs": [
    {
     "data": {
      "text/html": [
       "<div>\n",
       "<style scoped>\n",
       "    .dataframe tbody tr th:only-of-type {\n",
       "        vertical-align: middle;\n",
       "    }\n",
       "\n",
       "    .dataframe tbody tr th {\n",
       "        vertical-align: top;\n",
       "    }\n",
       "\n",
       "    .dataframe thead th {\n",
       "        text-align: right;\n",
       "    }\n",
       "</style>\n",
       "<table border=\"1\" class=\"dataframe\">\n",
       "  <thead>\n",
       "    <tr style=\"text-align: right;\">\n",
       "      <th></th>\n",
       "      <th>Mouse ID</th>\n",
       "      <th>Drug Regimen</th>\n",
       "      <th>Sex</th>\n",
       "      <th>Age_months</th>\n",
       "      <th>Weight (g)</th>\n",
       "      <th>Timepoint</th>\n",
       "      <th>Tumor Volume (mm3)</th>\n",
       "      <th>Metastatic Sites</th>\n",
       "    </tr>\n",
       "  </thead>\n",
       "  <tbody>\n",
       "    <tr>\n",
       "      <th>10</th>\n",
       "      <td>s185</td>\n",
       "      <td>Capomulin</td>\n",
       "      <td>Female</td>\n",
       "      <td>3</td>\n",
       "      <td>17</td>\n",
       "      <td>0</td>\n",
       "      <td>45.000000</td>\n",
       "      <td>0</td>\n",
       "    </tr>\n",
       "    <tr>\n",
       "      <th>11</th>\n",
       "      <td>s185</td>\n",
       "      <td>Capomulin</td>\n",
       "      <td>Female</td>\n",
       "      <td>3</td>\n",
       "      <td>17</td>\n",
       "      <td>5</td>\n",
       "      <td>43.878496</td>\n",
       "      <td>0</td>\n",
       "    </tr>\n",
       "    <tr>\n",
       "      <th>12</th>\n",
       "      <td>s185</td>\n",
       "      <td>Capomulin</td>\n",
       "      <td>Female</td>\n",
       "      <td>3</td>\n",
       "      <td>17</td>\n",
       "      <td>10</td>\n",
       "      <td>37.614948</td>\n",
       "      <td>0</td>\n",
       "    </tr>\n",
       "    <tr>\n",
       "      <th>13</th>\n",
       "      <td>s185</td>\n",
       "      <td>Capomulin</td>\n",
       "      <td>Female</td>\n",
       "      <td>3</td>\n",
       "      <td>17</td>\n",
       "      <td>15</td>\n",
       "      <td>38.177232</td>\n",
       "      <td>0</td>\n",
       "    </tr>\n",
       "    <tr>\n",
       "      <th>14</th>\n",
       "      <td>s185</td>\n",
       "      <td>Capomulin</td>\n",
       "      <td>Female</td>\n",
       "      <td>3</td>\n",
       "      <td>17</td>\n",
       "      <td>20</td>\n",
       "      <td>36.866876</td>\n",
       "      <td>0</td>\n",
       "    </tr>\n",
       "    <tr>\n",
       "      <th>15</th>\n",
       "      <td>s185</td>\n",
       "      <td>Capomulin</td>\n",
       "      <td>Female</td>\n",
       "      <td>3</td>\n",
       "      <td>17</td>\n",
       "      <td>25</td>\n",
       "      <td>33.949940</td>\n",
       "      <td>0</td>\n",
       "    </tr>\n",
       "    <tr>\n",
       "      <th>16</th>\n",
       "      <td>s185</td>\n",
       "      <td>Capomulin</td>\n",
       "      <td>Female</td>\n",
       "      <td>3</td>\n",
       "      <td>17</td>\n",
       "      <td>30</td>\n",
       "      <td>32.959671</td>\n",
       "      <td>1</td>\n",
       "    </tr>\n",
       "    <tr>\n",
       "      <th>17</th>\n",
       "      <td>s185</td>\n",
       "      <td>Capomulin</td>\n",
       "      <td>Female</td>\n",
       "      <td>3</td>\n",
       "      <td>17</td>\n",
       "      <td>35</td>\n",
       "      <td>28.328531</td>\n",
       "      <td>1</td>\n",
       "    </tr>\n",
       "    <tr>\n",
       "      <th>18</th>\n",
       "      <td>s185</td>\n",
       "      <td>Capomulin</td>\n",
       "      <td>Female</td>\n",
       "      <td>3</td>\n",
       "      <td>17</td>\n",
       "      <td>40</td>\n",
       "      <td>25.472143</td>\n",
       "      <td>1</td>\n",
       "    </tr>\n",
       "    <tr>\n",
       "      <th>19</th>\n",
       "      <td>s185</td>\n",
       "      <td>Capomulin</td>\n",
       "      <td>Female</td>\n",
       "      <td>3</td>\n",
       "      <td>17</td>\n",
       "      <td>45</td>\n",
       "      <td>23.343598</td>\n",
       "      <td>1</td>\n",
       "    </tr>\n",
       "  </tbody>\n",
       "</table>\n",
       "</div>"
      ],
      "text/plain": [
       "   Mouse ID Drug Regimen     Sex  Age_months  Weight (g)  Timepoint  \\\n",
       "10     s185    Capomulin  Female           3          17          0   \n",
       "11     s185    Capomulin  Female           3          17          5   \n",
       "12     s185    Capomulin  Female           3          17         10   \n",
       "13     s185    Capomulin  Female           3          17         15   \n",
       "14     s185    Capomulin  Female           3          17         20   \n",
       "15     s185    Capomulin  Female           3          17         25   \n",
       "16     s185    Capomulin  Female           3          17         30   \n",
       "17     s185    Capomulin  Female           3          17         35   \n",
       "18     s185    Capomulin  Female           3          17         40   \n",
       "19     s185    Capomulin  Female           3          17         45   \n",
       "\n",
       "    Tumor Volume (mm3)  Metastatic Sites  \n",
       "10           45.000000                 0  \n",
       "11           43.878496                 0  \n",
       "12           37.614948                 0  \n",
       "13           38.177232                 0  \n",
       "14           36.866876                 0  \n",
       "15           33.949940                 0  \n",
       "16           32.959671                 1  \n",
       "17           28.328531                 1  \n",
       "18           25.472143                 1  \n",
       "19           23.343598                 1  "
      ]
     },
     "execution_count": 69,
     "metadata": {},
     "output_type": "execute_result"
    }
   ],
   "source": [
    "s185_df = capomulin_df.loc[capomulin_df[\"Mouse ID\"] == \"s185\"]\n",
    "s185_df"
   ]
  },
  {
   "cell_type": "code",
   "execution_count": 73,
   "metadata": {},
   "outputs": [
    {
     "data": {
      "text/plain": [
       "<matplotlib.axes._subplots.AxesSubplot at 0x1a1bb219d0>"
      ]
     },
     "execution_count": 73,
     "metadata": {},
     "output_type": "execute_result"
    },
    {
     "data": {
      "image/png": "[encoded data removed]",
      "text/plain": [
       "<Figure size 432x360 with 1 Axes>"
      ]
     },
     "metadata": {
      "needs_background": "light"
     },
     "output_type": "display_data"
    }
   ],
   "source": [
    "s185_df = s185_df.loc[: , ['Timepoint', \"Tumor Volume (mm3)\"]]\n",
    "\n",
    "s185_df.set_index('Timepoint').plot(figsize = (6, 5), linewidth = 3.0, color = 'red')"
   ]
  },
  {
   "cell_type": "code",
   "execution_count": 86,
   "metadata": {},
   "outputs": [
    {
     "data": {
      "image/png": "[encoded data removed]",
      "text/plain": [
       "<Figure size 360x432 with 1 Axes>"
      ]
     },
     "metadata": {
      "needs_background": "light"
     },
     "output_type": "display_data"
    }
   ],
   "source": [
    "# Generate a scatter plot of mouse weight versus average tumor volume for the Capomulin regimen\n",
    "\n",
    "scatter_df = capomulin_df.loc[:,[\"Mouse ID\", \n",
    "                                 \"Weight (g)\", \n",
    "                                 \"Tumor Volume (mm3)\"]]\n",
    "\n",
    "scatter_df.head()\n",
    "\n",
    "\n",
    "#avg tumor vol\n",
    "avg_tumor = pd.DataFrame(scatter_df.groupby([\"Mouse ID\", \"Weight (g)\"])\n",
    "            [\"Tumor Volume (mm3)\"].mean()).reset_index()\n",
    "avg_tumor.head()\n",
    "\n",
    "\n",
    "avg_tumor = avg_tumor.rename(columns={\"Tumor Volume (mm3)\" : \"Average Volume\"})\n",
    "\n",
    "\n",
    "\n",
    "\n",
    "avg_tumor.plot(kind = \"scatter\", x = \"Weight (g)\", y = \"Average Volume\", grid = True, figsize = (5, 6), title = \"Weight vs Average Tumor Volume\")\n",
    "\n",
    "plt.show()\n"
   ]
  },
  {
   "cell_type": "markdown",
   "metadata": {},
   "source": [
    "## Correlation and Regression"
   ]
  },
  {
   "cell_type": "code",
   "execution_count": 95,
   "metadata": {},
   "outputs": [
    {
     "data": {
      "image/png": "[encoded data removed]",
      "text/plain": [
       "<Figure size 432x288 with 1 Axes>"
      ]
     },
     "metadata": {
      "needs_background": "light"
     },
     "output_type": "display_data"
    }
   ],
   "source": [
    "# Calculate the correlation coefficient and linear regression model \n",
    "# for mouse weight and average tumor volume for the Capomulin regimen\n",
    "\n",
    "x_values = avg_tumor[\"Weight (g)\"]\n",
    "y_values = avg_tumor[\"Average Volume\"]\n",
    "(slope, intercept, rvalue, pvalue, stderr) = linregress(x_values, y_values)\n",
    "\n",
    "regress_values = x_values * slope + intercept\n",
    "line = \"y = \" + str(round(slope,2)) + \"x + \" + str(round(intercept,2))\n",
    "\n",
    "plt.scatter(x_values, y_values)\n",
    "plt.plot(x_values, regress_values, \"r-\")\n",
    "plt.annotate(line, (6,10), fontsize = 12, color = \"red\")\n",
    "plt.xlabel(\"Mouse Weight (g)\")\n",
    "plt.ylabel(\"Average Tumor Volume\")\n",
    "plt.show()\n",
    "\n",
    "\n",
    "\n",
    "\n",
    "\n",
    "\n"
   ]
  },
  {
   "cell_type": "code",
   "execution_count": null,
   "metadata": {},
   "outputs": [],
   "source": []
  }
 ],
 "metadata": {
  "anaconda-cloud": {},
  "kernelspec": {
   "display_name": "Python 3",
   "language": "python",
   "name": "python3"
  },
  "language_info": {
   "codemirror_mode": {
    "name": "ipython",
    "version": 3
   },
   "file_extension": ".py",
   "mimetype": "text/x-python",
   "name": "python",
   "nbconvert_exporter": "python",
   "pygments_lexer": "ipython3",
   "version": "3.7.6"
  }
 },
 "nbformat": 4,
 "nbformat_minor": 2
}
